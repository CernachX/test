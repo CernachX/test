{
 "cells": [
  {
   "cell_type": "code",
   "execution_count": 12,
   "metadata": {},
   "outputs": [
    {
     "data": {
      "text/plain": [
       "True"
      ]
     },
     "execution_count": 12,
     "metadata": {},
     "output_type": "execute_result"
    }
   ],
   "source": [
    "lst=[]\n",
    "def is_perfect(input_int):\n",
    "    for num in range(1,input_int):\n",
    "        if input_int%num==0:\n",
    "            lst.append(num)\n",
    "    if sum(lst)==input_int:\n",
    "        return True\n",
    "    else:\n",
    "        return False\n",
    "\n",
    "is_perfect(100)\n",
    "is_perfect(496)\n"
   ]
  },
  {
   "cell_type": "code",
   "execution_count": 24,
   "metadata": {},
   "outputs": [
    {
     "data": {
      "text/plain": [
       "'30 is the LCM of 6 and 10'"
      ]
     },
     "execution_count": 24,
     "metadata": {},
     "output_type": "execute_result"
    }
   ],
   "source": [
    "def lcm(int1, int2):\n",
    "    multiple=0\n",
    "    while True:\n",
    "        multiple+=1\n",
    "        if multiple%int1==0 and multiple%int2==0:\n",
    "            return f\"{multiple} is the LCM of {int1} and {int2}\"\n",
    "        \n",
    "\n",
    "lcm(6,10)\n",
    "lcm(3,10)\n",
    "lcm(10,30)"
   ]
  }
 ],
 "metadata": {
  "kernelspec": {
   "display_name": "Python 3",
   "language": "python",
   "name": "python3"
  },
  "language_info": {
   "codemirror_mode": {
    "name": "ipython",
    "version": 3
   },
   "file_extension": ".py",
   "mimetype": "text/x-python",
   "name": "python",
   "nbconvert_exporter": "python",
   "pygments_lexer": "ipython3",
   "version": "3.10.13"
  }
 },
 "nbformat": 4,
 "nbformat_minor": 2
}
